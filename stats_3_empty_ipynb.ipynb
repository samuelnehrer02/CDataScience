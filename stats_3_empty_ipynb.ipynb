{
 "cells": [
  {
   "cell_type": "markdown",
   "id": "39c6f7d9-1db2-4c6b-9d9b-50293fff3c68",
   "metadata": {},
   "source": [
    "# Exercise 1 - introducing correlations "
   ]
  },
  {
   "cell_type": "markdown",
   "id": "791673d3-a861-4655-80cb-8a42d140cfba",
   "metadata": {},
   "source": [
    "Let's look at the relationship between FERTILITY and LIFE EXPECTANCY. For this we'll use the gapminder dataset"
   ]
  },
  {
   "cell_type": "code",
   "execution_count": null,
   "id": "91e1e70a-d97d-41d9-883e-994d698bf0ba",
   "metadata": {
    "vscode": {
     "languageId": "r"
    }
   },
   "outputs": [],
   "source": []
  },
  {
   "cell_type": "code",
   "execution_count": null,
   "id": "8a196709-ad92-4311-bf60-1b6b17a0588a",
   "metadata": {
    "vscode": {
     "languageId": "r"
    }
   },
   "outputs": [],
   "source": []
  },
  {
   "cell_type": "code",
   "execution_count": null,
   "id": "e18260d3-8f7a-4314-9d48-5d82f141a59e",
   "metadata": {
    "vscode": {
     "languageId": "r"
    }
   },
   "outputs": [],
   "source": []
  },
  {
   "cell_type": "markdown",
   "id": "26ada37f-d10e-468d-8453-926c53e171de",
   "metadata": {},
   "source": [
    "Let's restrict our question a bit, and start by looking just at the year 2000"
   ]
  },
  {
   "cell_type": "code",
   "execution_count": null,
   "id": "035f1c5b-817c-444a-bde0-f7c3bfd1afb7",
   "metadata": {
    "vscode": {
     "languageId": "r"
    }
   },
   "outputs": [],
   "source": []
  },
  {
   "cell_type": "markdown",
   "id": "c8f60862-f58b-4c5f-8b5d-5fbdceb8321b",
   "metadata": {},
   "source": [
    "Let's start by just looking at the correlation. The best way to start is to visualise the relationship"
   ]
  },
  {
   "cell_type": "code",
   "execution_count": null,
   "id": "acacd6c0-6f38-4688-a25c-eb580c8b1c0e",
   "metadata": {
    "vscode": {
     "languageId": "r"
    }
   },
   "outputs": [],
   "source": []
  },
  {
   "cell_type": "code",
   "execution_count": null,
   "id": "f4ebe3f0-0c21-4940-b6dd-c62bc9672847",
   "metadata": {
    "vscode": {
     "languageId": "r"
    }
   },
   "outputs": [],
   "source": []
  },
  {
   "cell_type": "markdown",
   "id": "b32d9153-dc76-4c58-9b23-95e8a1b7d97f",
   "metadata": {},
   "source": [
    "Let's look at another question. What about the relationship between population and life expectancy?"
   ]
  },
  {
   "cell_type": "markdown",
   "id": "b8c5d9e4-9d21-4d4a-a5ac-26c09891adf3",
   "metadata": {},
   "source": [
    "Let's start by just looking at the correlation. The best way to start is to visualise the relationship"
   ]
  },
  {
   "cell_type": "code",
   "execution_count": null,
   "id": "b286fefa-52b4-4530-abfa-0267c70ee58c",
   "metadata": {
    "vscode": {
     "languageId": "r"
    }
   },
   "outputs": [],
   "source": []
  },
  {
   "cell_type": "markdown",
   "id": "85427067-bc50-4ed5-ae06-4ce7b386ee20",
   "metadata": {},
   "source": [
    "This plot is hard to read due to the two very high data points, let's censor them"
   ]
  },
  {
   "cell_type": "code",
   "execution_count": null,
   "id": "a9d34a91-d3c8-4167-b3d6-f90c47a4b68f",
   "metadata": {
    "vscode": {
     "languageId": "r"
    }
   },
   "outputs": [],
   "source": []
  },
  {
   "cell_type": "code",
   "execution_count": null,
   "id": "eae982cf-ba00-4bc0-8ee5-5c12098e2516",
   "metadata": {
    "vscode": {
     "languageId": "r"
    }
   },
   "outputs": [],
   "source": []
  },
  {
   "cell_type": "markdown",
   "id": "48d3df47-ba23-49ca-a906-b311a1d5e72b",
   "metadata": {},
   "source": [
    "Let's apply linear models to both of these relationships"
   ]
  },
  {
   "cell_type": "code",
   "execution_count": null,
   "id": "d265282f-14f9-4c98-99bc-2b88d3505444",
   "metadata": {
    "vscode": {
     "languageId": "r"
    }
   },
   "outputs": [],
   "source": []
  },
  {
   "cell_type": "code",
   "execution_count": null,
   "id": "b0ded168-d3c5-447f-a0c7-4795abc007c1",
   "metadata": {
    "vscode": {
     "languageId": "r"
    }
   },
   "outputs": [],
   "source": []
  },
  {
   "cell_type": "markdown",
   "id": "9acdd37e-931b-4cca-8414-0c95b6eff1bf",
   "metadata": {},
   "source": [
    "# Exercise 2 - interpreting linear models  "
   ]
  },
  {
   "cell_type": "markdown",
   "id": "ad126b17-26b9-4aeb-9ee3-c7ae22b59644",
   "metadata": {},
   "source": [
    "Let's go back to last week. We had a question about the influence of number of cylinders on fuel economy. Let's load the data and return to that question"
   ]
  },
  {
   "cell_type": "code",
   "execution_count": null,
   "id": "553f1709-8859-4c50-ad4f-b441f5d912c6",
   "metadata": {
    "vscode": {
     "languageId": "r"
    }
   },
   "outputs": [],
   "source": []
  },
  {
   "cell_type": "code",
   "execution_count": null,
   "id": "f4b27b0d-d3ee-4209-83e9-359c8b5169b8",
   "metadata": {
    "vscode": {
     "languageId": "r"
    }
   },
   "outputs": [],
   "source": []
  },
  {
   "cell_type": "code",
   "execution_count": null,
   "id": "95ea32d2-13ef-4bbd-8a9c-87dd1ddc33ad",
   "metadata": {
    "vscode": {
     "languageId": "r"
    }
   },
   "outputs": [],
   "source": []
  },
  {
   "cell_type": "markdown",
   "id": "d6adcd58-9ea9-4295-8f56-16364068cb9a",
   "metadata": {},
   "source": [
    "Let's isolate the relevant data again for Audi and VW midsizes"
   ]
  },
  {
   "cell_type": "code",
   "execution_count": null,
   "id": "4203106b-9544-4c1c-81f7-63f396b3753b",
   "metadata": {
    "vscode": {
     "languageId": "r"
    }
   },
   "outputs": [],
   "source": []
  },
  {
   "cell_type": "code",
   "execution_count": null,
   "id": "7761a382-2cd6-42ee-a159-239aa854dd48",
   "metadata": {
    "vscode": {
     "languageId": "r"
    }
   },
   "outputs": [],
   "source": []
  },
  {
   "cell_type": "markdown",
   "id": "02bc0765-f6eb-417b-b4a5-ba0f640ac015",
   "metadata": {},
   "source": [
    "Let's use linear models to investigate the effect of number of cylinders on fuel economy in both makes"
   ]
  },
  {
   "cell_type": "code",
   "execution_count": null,
   "id": "22fe0e5d-a1dc-4fe1-a035-3aec89dff960",
   "metadata": {
    "vscode": {
     "languageId": "r"
    }
   },
   "outputs": [],
   "source": []
  },
  {
   "cell_type": "code",
   "execution_count": null,
   "id": "3cfb0a8c-5836-4afe-806f-7da956204017",
   "metadata": {
    "vscode": {
     "languageId": "r"
    }
   },
   "outputs": [],
   "source": []
  },
  {
   "cell_type": "markdown",
   "id": "7d798c36-8fc8-45e9-b343-594120deb582",
   "metadata": {},
   "source": [
    "Let's look at this INTERACTION between variables WITHIN THE MODEL"
   ]
  },
  {
   "cell_type": "code",
   "execution_count": null,
   "id": "cd0cbcd7-5686-41ce-8b5a-10e88cae151d",
   "metadata": {
    "vscode": {
     "languageId": "r"
    }
   },
   "outputs": [],
   "source": []
  },
  {
   "cell_type": "markdown",
   "id": "da921a11-8059-43c7-8017-054a32d41c2e",
   "metadata": {},
   "source": [
    "Let's go back to this question about which model is better. We can do this using model comparison. Let's build a model without make, and one with, and see what we learn"
   ]
  },
  {
   "cell_type": "code",
   "execution_count": null,
   "id": "ebcc1e17-e1b5-499d-af0f-0886f4e58979",
   "metadata": {
    "vscode": {
     "languageId": "r"
    }
   },
   "outputs": [],
   "source": []
  },
  {
   "cell_type": "markdown",
   "id": "0858ef75-067c-4bed-854b-571b218728d4",
   "metadata": {},
   "source": [
    "# Exercise 3 - non-linear predictors"
   ]
  },
  {
   "cell_type": "markdown",
   "id": "c45e6e2e-bcef-424d-a89a-2e3aa3a09ab5",
   "metadata": {},
   "source": [
    "Lets look at the relationship infant mortality and life expectancy in the year 2000 what do you notice?"
   ]
  },
  {
   "cell_type": "code",
   "execution_count": null,
   "id": "148bf096-2bf2-4589-8978-6295b25bf873",
   "metadata": {
    "vscode": {
     "languageId": "r"
    }
   },
   "outputs": [],
   "source": []
  },
  {
   "cell_type": "code",
   "execution_count": null,
   "id": "7fae1a70-f350-4cfc-ae49-89fbcda82d70",
   "metadata": {
    "vscode": {
     "languageId": "r"
    }
   },
   "outputs": [],
   "source": []
  },
  {
   "cell_type": "code",
   "execution_count": null,
   "id": "30e7d536-df6d-4171-a2a8-312f765444e5",
   "metadata": {
    "vscode": {
     "languageId": "r"
    }
   },
   "outputs": [],
   "source": []
  },
  {
   "cell_type": "code",
   "execution_count": null,
   "id": "a9351f20-f8aa-4280-9cad-e69fb9871ed4",
   "metadata": {
    "vscode": {
     "languageId": "r"
    }
   },
   "outputs": [],
   "source": []
  }
 ],
 "metadata": {
  "kernelspec": {
   "display_name": "R",
   "language": "R",
   "name": "ir"
  },
  "language_info": {
   "codemirror_mode": "r",
   "file_extension": ".r",
   "mimetype": "text/x-r-source",
   "name": "R",
   "pygments_lexer": "r",
   "version": "4.4.1"
  }
 },
 "nbformat": 4,
 "nbformat_minor": 5
}
